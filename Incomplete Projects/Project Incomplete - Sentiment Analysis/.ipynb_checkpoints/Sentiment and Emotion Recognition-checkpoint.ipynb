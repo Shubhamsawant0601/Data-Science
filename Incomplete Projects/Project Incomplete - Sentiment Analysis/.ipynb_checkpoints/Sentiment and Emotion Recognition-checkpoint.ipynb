{
 "cells": [
  {
   "cell_type": "code",
   "execution_count": null,
   "id": "96ee3d96",
   "metadata": {},
   "outputs": [],
   "source": [
    "# Importing Libraries for ML\n",
    "\n",
    "import numpy as np, pandas as pd\n",
    "from sklearn.model_selection import train_test_split\n",
    "from sklearn.tree import DecisionTreeClassifier\n",
    "from sklearn.ensemble import RandomForestClassifier\n",
    "from sklearn.model_selection import GridSearchCV, RandomizedSearchCV\n",
    "from sklearn.metrics import accuracy_score, precision_score, recall_score, f1_score,roc_auc_score, roc_curve\n",
    "import XGBoostClassifier\n",
    "\n",
    "import nltk\n",
    "from nltk.corpus import stopwords\n",
    "from bs4 import BeautifulSoup\n",
    "import re\n",
    "from sklearn.feature_extraction.text import CountVectorizer, TfidfVectorizer\n",
    "from nltk.stem.wordnet import WordNetLemmatizer\n",
    "from sklearn.model_selection import train_test_split\n",
    "from sklearn.pipeline import Pipeline\n",
    "from imblearn.over_sampling import SMOTE\n",
    "import matplotlib.pyplot as plt\n",
    "import warnings\n",
    "warnings.filterwarnings(\"ignore\")\n",
    "%matplotlib inline\n",
    "\n",
    "import os\n",
    "for dirname, _, filenames in os.walk('/kaggle/input'):\n",
    "    for filename in filenames:\n",
    "        print(os.path.join(dirname, filename))\n",
    "\n",
    "import warnings\n",
    "warnings.filterwarnings(\"ignore\")\n",
    "\n",
    "# Importing Data\n",
    "\n",
    "df = pd.read_csv('sentiment.txt', delimiter = \";\", )\n",
    "df.head(3)"
   ]
  },
  {
   "cell_type": "code",
   "execution_count": null,
   "id": "59a4f5c8",
   "metadata": {},
   "outputs": [],
   "source": [
    "df.shape"
   ]
  },
  {
   "cell_type": "code",
   "execution_count": null,
   "id": "fa51c894",
   "metadata": {},
   "outputs": [],
   "source": [
    "df = df.rename(columns={\"i didnt feel humiliated\":\"sentence\", \"sadness\":\"emotion\"})\n",
    "df"
   ]
  },
  {
   "cell_type": "code",
   "execution_count": null,
   "id": "0a321d0b",
   "metadata": {},
   "outputs": [],
   "source": [
    "df[\"emotion\"].unique()"
   ]
  },
  {
   "cell_type": "code",
   "execution_count": null,
   "id": "6d9e0c14",
   "metadata": {},
   "outputs": [],
   "source": [
    "df[\"emotion\"] = df[\"emotion\"].replace({'sadness':1, 'anger':2, 'love':3, 'surprise':4, 'fear':5, 'joy':6})\n",
    "df"
   ]
  },
  {
   "cell_type": "code",
   "execution_count": null,
   "id": "2f36603a",
   "metadata": {},
   "outputs": [],
   "source": [
    "X = df[\"sentence\"].tolist()\n",
    "Y = df[\"emotion\"]"
   ]
  },
  {
   "cell_type": "code",
   "execution_count": null,
   "id": "9795b19f",
   "metadata": {},
   "outputs": [],
   "source": [
    "lemmatizer = WordNetLemmatizer()\n",
    "\n",
    "def preprocessing_text(string):\n",
    "    pre1 = re.sub(\"[^a-zA-Z]\",\" \",string)\n",
    "    pre2 = pre1.lower()\n",
    "    pre3 = pre2.split()\n",
    "    pre4 = set([lemmatizer.lemmatize(str(x)) for x in pre3])\n",
    "    stop = set(stopwords.words(\"english\"))\n",
    "    pre5 = [w for w in pre4 if not w in stop] \n",
    "    \n",
    "    preprocessed = \" \".join(pre5)\n",
    "    \n",
    "    return preprocessed"
   ]
  },
  {
   "cell_type": "code",
   "execution_count": null,
   "id": "15ed9702",
   "metadata": {},
   "outputs": [],
   "source": [
    "X = [preprocessing_text(i) for i in X]"
   ]
  },
  {
   "cell_type": "code",
   "execution_count": null,
   "id": "42f1fd67",
   "metadata": {},
   "outputs": [],
   "source": [
    "X"
   ]
  },
  {
   "cell_type": "code",
   "execution_count": null,
   "id": "4370a232",
   "metadata": {},
   "outputs": [],
   "source": [
    "x_train, x_test, y_train, y_test = train_test_split(X,Y, test_size=0.2, random_state=42, stratify=Y)"
   ]
  },
  {
   "cell_type": "code",
   "execution_count": null,
   "id": "7e3ff22f",
   "metadata": {},
   "outputs": [],
   "source": [
    "df[\"emotion\"].value_counts()"
   ]
  },
  {
   "cell_type": "code",
   "execution_count": null,
   "id": "31d1465d",
   "metadata": {},
   "outputs": [],
   "source": [
    "one = df[df[\"emotion\"]==1][\"emotion\"].count()\n",
    "two = df[df[\"emotion\"]==2][\"emotion\"].count()\n",
    "three = df[df[\"emotion\"]==3][\"emotion\"].count()\n",
    "four = df[df[\"emotion\"]==4][\"emotion\"].count()\n",
    "five = df[df[\"emotion\"]==5][\"emotion\"].count()\n",
    "six = df[df[\"emotion\"]==6][\"emotion\"].count()\n",
    "total = len(df[\"emotion\"])\n",
    "\n",
    "weight_one = (total-one)/total\n",
    "\n",
    "weight_two = (total-two)/total\n",
    "\n",
    "weight_three = (total-three)/total\n",
    "\n",
    "weight_four = (total-four)/total\n",
    "\n",
    "weight_five = (total-five)/total\n",
    "\n",
    "weight_six= (total-six)/total\n",
    "\n",
    "\n",
    "print(weight_one)\n",
    "print(weight_two)\n",
    "print(weight_three)\n",
    "print(weight_four)\n",
    "print(weight_five)\n",
    "print(weight_six)\n",
    "\n",
    "print(total)"
   ]
  },
  {
   "cell_type": "code",
   "execution_count": null,
   "id": "d0eb3fbc",
   "metadata": {},
   "outputs": [],
   "source": [
    "tfidf = TfidfVectorizer()\n",
    "tfidf_matrix = tfidf.fit_transform(x_train)"
   ]
  },
  {
   "cell_type": "code",
   "execution_count": null,
   "id": "5d9731f6",
   "metadata": {},
   "outputs": [],
   "source": [
    "rf = RandomForestClassifier()\n",
    "\n",
    "param ={ \"n_estimators\":[x for x in range(100,2000, 200)],\n",
    "         \"max_depth\" : [x for x in range(1,6)],\n",
    "         \"min_samples_split\" : [x for x in range(1,6)],\n",
    "         \"min_samples_leaf\" : [x for x in range(1,6)],\n",
    "       }\n",
    "\n",
    "rf_cv = RandomizedSearchCV(rf, param_distributions=param, verbose=5)\n",
    "\n",
    "rf_cv.fit(tfidf_matrix, y_train)"
   ]
  },
  {
   "cell_type": "code",
   "execution_count": null,
   "id": "b45f242f",
   "metadata": {},
   "outputs": [],
   "source": [
    "best_para = rf_cv.best_params_\n",
    "best_para"
   ]
  },
  {
   "cell_type": "code",
   "execution_count": null,
   "id": "78e60e54",
   "metadata": {},
   "outputs": [],
   "source": [
    "params ={'n_estimators': [x for x in range(best_para[\"n_estimators\"]-50,  best_para[\"n_estimators\"]+50, 10)],\n",
    "         \n",
    "         'min_samples_split': [best_para[\"min_samples_split\"]+1, best_para[\"min_samples_split\"], best_para[\"min_samples_split\"]-1],\n",
    "         'min_samples_leaf': [best_para[\"min_samples_leaf\"]+1, best_para[\"min_samples_leaf\"], best_para[\"min_samples_leaf\"]-1],\n",
    "         'max_depth': [best_para[\"max_depth\"]]}\n",
    "\n",
    "params"
   ]
  },
  {
   "cell_type": "code",
   "execution_count": null,
   "id": "74fd530d",
   "metadata": {},
   "outputs": [],
   "source": [
    "rf = RandomForestClassifier()\n",
    "\n",
    "gr_cv = GridSearchCV(rf, param_grid=params, verbose=2)\n",
    "\n",
    "gr_cv.fit(tfidf_matrix, y_train)"
   ]
  },
  {
   "cell_type": "code",
   "execution_count": null,
   "id": "88765726",
   "metadata": {},
   "outputs": [],
   "source": [
    "pip = Pipeline([\n",
    "    (\"tfidf\", TfidfVectorizer()),\n",
    "    (\"classifier\", RandomForestClassifier(random_state=42, class_weight={1:weight_one,2:weight_two,3:weight_three,4:weight_four,5:weight_five,6:weight_six}))\n",
    "])"
   ]
  },
  {
   "cell_type": "code",
   "execution_count": null,
   "id": "34521887",
   "metadata": {},
   "outputs": [],
   "source": [
    "pip.fit(x_train, y_train)"
   ]
  },
  {
   "cell_type": "code",
   "execution_count": null,
   "id": "d326d834",
   "metadata": {},
   "outputs": [],
   "source": [
    "y_pred = pip.predict(x_test)\n",
    "\n",
    "y_pred_prob = pip.predict_proba(x_test)"
   ]
  },
  {
   "cell_type": "code",
   "execution_count": null,
   "id": "bb513d90",
   "metadata": {},
   "outputs": [],
   "source": [
    "accuracy_score(y_test, y_pred)"
   ]
  },
  {
   "cell_type": "code",
   "execution_count": null,
   "id": "62cb60a2",
   "metadata": {},
   "outputs": [],
   "source": []
  },
  {
   "cell_type": "code",
   "execution_count": null,
   "id": "39caaf76",
   "metadata": {},
   "outputs": [],
   "source": []
  }
 ],
 "metadata": {
  "kernelspec": {
   "display_name": "Python 3",
   "language": "python",
   "name": "python3"
  },
  "language_info": {
   "codemirror_mode": {
    "name": "ipython",
    "version": 3
   },
   "file_extension": ".py",
   "mimetype": "text/x-python",
   "name": "python",
   "nbconvert_exporter": "python",
   "pygments_lexer": "ipython3",
   "version": "3.9.5"
  }
 },
 "nbformat": 4,
 "nbformat_minor": 5
}
