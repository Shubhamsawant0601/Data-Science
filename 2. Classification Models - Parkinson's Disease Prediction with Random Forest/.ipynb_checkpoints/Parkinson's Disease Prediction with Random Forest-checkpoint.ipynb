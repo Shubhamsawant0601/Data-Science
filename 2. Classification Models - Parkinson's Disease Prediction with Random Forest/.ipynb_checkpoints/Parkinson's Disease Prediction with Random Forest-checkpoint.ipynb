{
 "cells": [
  {
   "cell_type": "markdown",
   "id": "afraid-furniture",
   "metadata": {
    "papermill": {
     "duration": 0.038828,
     "end_time": "2021-06-03T13:42:43.264806",
     "exception": false,
     "start_time": "2021-06-03T13:42:43.225978",
     "status": "completed"
    },
    "tags": []
   },
   "source": [
    "# Parkinson's Disease Dataset\n",
    "Attribute Information:\n",
    "----------------------\n",
    "Matrix column entries (attributes):\n",
    "\n",
    "name - ASCII subject name and recording number\n",
    "\n",
    "MDVP:Fo(Hz) - Average vocal fundamental frequency\n",
    "\n",
    "MDVP:Fhi(Hz) - Maximum vocal fundamental frequency\n",
    "\n",
    "MDVP:Flo(Hz) - Minimum vocal fundamental frequency\n",
    "\n",
    "MDVP:Jitter(%),MDVP:Jitter(Abs),MDVP:RAP,MDVP:PPQ,Jitter:DDP - Several measures of variation in fundamental frequency\n",
    "\n",
    "MDVP:Shimmer,\n",
    "\n",
    "MDVP:Shimmer(dB),\n",
    "\n",
    "Shimmer:APQ3,\n",
    "\n",
    "Shimmer:APQ5,\n",
    "\n",
    "MDVP:APQ,\n",
    "\n",
    "Shimmer:DDA - Several measures of variation in amplitude\n",
    "\n",
    "NHR,HNR - Two measures of ratio of noise to tonal components in the voice\n",
    "\n",
    "status - Health status of the subject (one) - Parkinson's, (zero) - healthy\n",
    "\n",
    "RPDE,D2 - Two nonlinear dynamical complexity measures\n",
    "\n",
    "DFA - Signal fractal scaling exponent\n",
    "\n",
    "spread1,spread2,PPE - Three nonlinear measures of fundamental frequency variation \n",
    "\n",
    "\n",
    "# 1. Importing Libraries for ML"
   ]
  },
  {
   "cell_type": "code",
   "execution_count": 1,
   "id": "peaceful-posting",
   "metadata": {
    "execution": {
     "iopub.execute_input": "2021-06-03T13:42:43.348977Z",
     "iopub.status.busy": "2021-06-03T13:42:43.347664Z",
     "iopub.status.idle": "2021-06-03T13:42:45.535901Z",
     "shell.execute_reply": "2021-06-03T13:42:45.534929Z",
     "shell.execute_reply.started": "2021-06-03T13:21:46.705318Z"
    },
    "papermill": {
     "duration": 2.230881,
     "end_time": "2021-06-03T13:42:45.536074",
     "exception": false,
     "start_time": "2021-06-03T13:42:43.305193",
     "status": "completed"
    },
    "tags": []
   },
   "outputs": [
    {
     "ename": "ModuleNotFoundError",
     "evalue": "No module named 'imblearn'",
     "output_type": "error",
     "traceback": [
      "\u001b[1;31m---------------------------------------------------------------------------\u001b[0m",
      "\u001b[1;31mModuleNotFoundError\u001b[0m                       Traceback (most recent call last)",
      "\u001b[1;32m<ipython-input-1-9a014604a26f>\u001b[0m in \u001b[0;36m<module>\u001b[1;34m\u001b[0m\n\u001b[0;32m      4\u001b[0m \u001b[1;32mimport\u001b[0m \u001b[0mseaborn\u001b[0m \u001b[1;32mas\u001b[0m \u001b[0msns\u001b[0m\u001b[1;33m\u001b[0m\u001b[1;33m\u001b[0m\u001b[0m\n\u001b[0;32m      5\u001b[0m \u001b[1;33m\u001b[0m\u001b[0m\n\u001b[1;32m----> 6\u001b[1;33m \u001b[1;32mfrom\u001b[0m \u001b[0mimblearn\u001b[0m\u001b[1;33m.\u001b[0m\u001b[0mover_sampling\u001b[0m \u001b[1;32mimport\u001b[0m \u001b[0mRandomOverSampler\u001b[0m\u001b[1;33m\u001b[0m\u001b[1;33m\u001b[0m\u001b[0m\n\u001b[0m\u001b[0;32m      7\u001b[0m \u001b[1;32mfrom\u001b[0m \u001b[0mhyperopt\u001b[0m \u001b[1;32mimport\u001b[0m \u001b[0mhp\u001b[0m\u001b[1;33m,\u001b[0m \u001b[0mfmin\u001b[0m\u001b[1;33m,\u001b[0m \u001b[0mtpe\u001b[0m\u001b[1;33m,\u001b[0m \u001b[0mSTATUS_OK\u001b[0m\u001b[1;33m,\u001b[0m \u001b[0mTrials\u001b[0m\u001b[1;33m\u001b[0m\u001b[1;33m\u001b[0m\u001b[0m\n\u001b[0;32m      8\u001b[0m \u001b[1;32mfrom\u001b[0m \u001b[0msklearn\u001b[0m\u001b[1;33m.\u001b[0m\u001b[0mmodel_selection\u001b[0m \u001b[1;32mimport\u001b[0m \u001b[0mcross_val_score\u001b[0m\u001b[1;33m\u001b[0m\u001b[1;33m\u001b[0m\u001b[0m\n",
      "\u001b[1;31mModuleNotFoundError\u001b[0m: No module named 'imblearn'"
     ]
    }
   ],
   "source": [
    "import numpy as np\n",
    "import pandas as pd\n",
    "import matplotlib.pyplot as plt\n",
    "import seaborn as sns\n",
    "\n",
    "from imblearn.over_sampling import RandomOverSampler\n",
    "from hyperopt import hp, fmin, tpe, STATUS_OK, Trials\n",
    "from sklearn.model_selection import cross_val_score\n",
    "\n",
    "from sklearn.model_selection import train_test_split, GridSearchCV,RandomizedSearchCV\n",
    "from sklearn.metrics import accuracy_score, classification_report, confusion_matrix\n",
    "\n",
    "from sklearn.ensemble import RandomForestClassifier\n",
    "\n",
    "import warnings\n",
    "warnings.filterwarnings(\"ignore\")\n"
   ]
  },
  {
   "cell_type": "markdown",
   "id": "loaded-savings",
   "metadata": {
    "papermill": {
     "duration": 0.038666,
     "end_time": "2021-06-03T13:42:45.613762",
     "exception": false,
     "start_time": "2021-06-03T13:42:45.575096",
     "status": "completed"
    },
    "tags": []
   },
   "source": [
    "# 2. Importing Data"
   ]
  },
  {
   "cell_type": "code",
   "execution_count": null,
   "id": "quality-basement",
   "metadata": {
    "execution": {
     "iopub.execute_input": "2021-06-03T13:42:45.697329Z",
     "iopub.status.busy": "2021-06-03T13:42:45.696553Z",
     "iopub.status.idle": "2021-06-03T13:42:45.757261Z",
     "shell.execute_reply": "2021-06-03T13:42:45.756729Z",
     "shell.execute_reply.started": "2021-06-03T13:21:46.719402Z"
    },
    "papermill": {
     "duration": 0.1049,
     "end_time": "2021-06-03T13:42:45.757424",
     "exception": false,
     "start_time": "2021-06-03T13:42:45.652524",
     "status": "completed"
    },
    "tags": []
   },
   "outputs": [],
   "source": [
    "df = pd.read_csv('parkinsons.csv')\n",
    "df.head(3)"
   ]
  },
  {
   "cell_type": "markdown",
   "id": "active-dubai",
   "metadata": {
    "papermill": {
     "duration": 0.039045,
     "end_time": "2021-06-03T13:42:45.837216",
     "exception": false,
     "start_time": "2021-06-03T13:42:45.798171",
     "status": "completed"
    },
    "tags": []
   },
   "source": [
    "# 3.  Data Cleaning\n",
    "1. Finding the null values and handling them in proper way.\n",
    "2. Drop uneccessay data columns.\n",
    "3. Find outliers and remove them."
   ]
  },
  {
   "cell_type": "code",
   "execution_count": null,
   "id": "formal-thought",
   "metadata": {
    "execution": {
     "iopub.execute_input": "2021-06-03T13:42:45.930989Z",
     "iopub.status.busy": "2021-06-03T13:42:45.924304Z",
     "iopub.status.idle": "2021-06-03T13:42:45.936649Z",
     "shell.execute_reply": "2021-06-03T13:42:45.936059Z",
     "shell.execute_reply.started": "2021-06-03T13:21:46.766515Z"
    },
    "papermill": {
     "duration": 0.062395,
     "end_time": "2021-06-03T13:42:45.936812",
     "exception": false,
     "start_time": "2021-06-03T13:42:45.874417",
     "status": "completed"
    },
    "tags": []
   },
   "outputs": [],
   "source": [
    "df.iloc[:3,:10]"
   ]
  },
  {
   "cell_type": "code",
   "execution_count": null,
   "id": "intelligent-finance",
   "metadata": {
    "execution": {
     "iopub.execute_input": "2021-06-03T13:42:46.018650Z",
     "iopub.status.busy": "2021-06-03T13:42:46.017655Z",
     "iopub.status.idle": "2021-06-03T13:42:46.036813Z",
     "shell.execute_reply": "2021-06-03T13:42:46.037330Z",
     "shell.execute_reply.started": "2021-06-03T13:21:46.787577Z"
    },
    "papermill": {
     "duration": 0.061267,
     "end_time": "2021-06-03T13:42:46.037505",
     "exception": false,
     "start_time": "2021-06-03T13:42:45.976238",
     "status": "completed"
    },
    "tags": []
   },
   "outputs": [],
   "source": [
    "df.iloc[:3,:14]"
   ]
  },
  {
   "cell_type": "code",
   "execution_count": null,
   "id": "clean-morrison",
   "metadata": {
    "execution": {
     "iopub.execute_input": "2021-06-03T13:42:46.124145Z",
     "iopub.status.busy": "2021-06-03T13:42:46.123018Z",
     "iopub.status.idle": "2021-06-03T13:42:46.213844Z",
     "shell.execute_reply": "2021-06-03T13:42:46.213234Z",
     "shell.execute_reply.started": "2021-06-03T13:21:46.822433Z"
    },
    "papermill": {
     "duration": 0.137247,
     "end_time": "2021-06-03T13:42:46.214027",
     "exception": false,
     "start_time": "2021-06-03T13:42:46.076780",
     "status": "completed"
    },
    "tags": []
   },
   "outputs": [],
   "source": [
    "df.describe()"
   ]
  },
  {
   "cell_type": "code",
   "execution_count": null,
   "id": "biblical-tulsa",
   "metadata": {
    "execution": {
     "iopub.execute_input": "2021-06-03T13:42:46.303129Z",
     "iopub.status.busy": "2021-06-03T13:42:46.302387Z",
     "iopub.status.idle": "2021-06-03T13:42:46.306135Z",
     "shell.execute_reply": "2021-06-03T13:42:46.306639Z",
     "shell.execute_reply.started": "2021-06-03T13:21:46.918635Z"
    },
    "papermill": {
     "duration": 0.049451,
     "end_time": "2021-06-03T13:42:46.306808",
     "exception": false,
     "start_time": "2021-06-03T13:42:46.257357",
     "status": "completed"
    },
    "tags": []
   },
   "outputs": [],
   "source": [
    "df.shape"
   ]
  },
  {
   "cell_type": "markdown",
   "id": "mysterious-expression",
   "metadata": {
    "papermill": {
     "duration": 0.040424,
     "end_time": "2021-06-03T13:42:46.387775",
     "exception": false,
     "start_time": "2021-06-03T13:42:46.347351",
     "status": "completed"
    },
    "tags": []
   },
   "source": [
    "## 3.1 Finding the null values"
   ]
  },
  {
   "cell_type": "code",
   "execution_count": null,
   "id": "skilled-diversity",
   "metadata": {
    "execution": {
     "iopub.execute_input": "2021-06-03T13:42:46.480566Z",
     "iopub.status.busy": "2021-06-03T13:42:46.479410Z",
     "iopub.status.idle": "2021-06-03T13:42:46.484830Z",
     "shell.execute_reply": "2021-06-03T13:42:46.484281Z",
     "shell.execute_reply.started": "2021-06-03T13:21:46.927922Z"
    },
    "papermill": {
     "duration": 0.054663,
     "end_time": "2021-06-03T13:42:46.484968",
     "exception": false,
     "start_time": "2021-06-03T13:42:46.430305",
     "status": "completed"
    },
    "tags": []
   },
   "outputs": [],
   "source": [
    "df.isnull().sum()"
   ]
  },
  {
   "cell_type": "markdown",
   "id": "fiscal-trustee",
   "metadata": {
    "papermill": {
     "duration": 0.040928,
     "end_time": "2021-06-03T13:42:46.567157",
     "exception": false,
     "start_time": "2021-06-03T13:42:46.526229",
     "status": "completed"
    },
    "tags": []
   },
   "source": [
    "## 3.2 Drop the \"name\" column which is unnecessary in predictive modelling."
   ]
  },
  {
   "cell_type": "code",
   "execution_count": null,
   "id": "objective-messaging",
   "metadata": {
    "execution": {
     "iopub.execute_input": "2021-06-03T13:42:46.654556Z",
     "iopub.status.busy": "2021-06-03T13:42:46.653894Z",
     "iopub.status.idle": "2021-06-03T13:42:46.656739Z",
     "shell.execute_reply": "2021-06-03T13:42:46.657359Z",
     "shell.execute_reply.started": "2021-06-03T13:21:46.948822Z"
    },
    "papermill": {
     "duration": 0.049842,
     "end_time": "2021-06-03T13:42:46.657539",
     "exception": false,
     "start_time": "2021-06-03T13:42:46.607697",
     "status": "completed"
    },
    "tags": []
   },
   "outputs": [],
   "source": [
    "df.drop([\"name\"], axis=1, inplace=True)"
   ]
  },
  {
   "cell_type": "markdown",
   "id": "interpreted-journal",
   "metadata": {
    "papermill": {
     "duration": 0.040762,
     "end_time": "2021-06-03T13:42:46.737995",
     "exception": false,
     "start_time": "2021-06-03T13:42:46.697233",
     "status": "completed"
    },
    "tags": []
   },
   "source": [
    "## 3.3 Finding outliers and removing them.\n",
    "\n",
    "#### Create functions to\n",
    "- plot the outliers using boxplots and distplots\n",
    "- find outliers in skewed and normally distributed data.\n",
    "- remove outliers in skewed and normally distributed data."
   ]
  },
  {
   "cell_type": "code",
   "execution_count": null,
   "id": "inner-heating",
   "metadata": {
    "execution": {
     "iopub.execute_input": "2021-06-03T13:42:46.824299Z",
     "iopub.status.busy": "2021-06-03T13:42:46.823587Z",
     "iopub.status.idle": "2021-06-03T13:42:46.841158Z",
     "shell.execute_reply": "2021-06-03T13:42:46.841731Z",
     "shell.execute_reply.started": "2021-06-03T13:21:46.965055Z"
    },
    "papermill": {
     "duration": 0.063195,
     "end_time": "2021-06-03T13:42:46.841923",
     "exception": false,
     "start_time": "2021-06-03T13:42:46.778728",
     "status": "completed"
    },
    "tags": []
   },
   "outputs": [],
   "source": [
    "# function to plot the distplot and boxplot for given dataframe and column\n",
    "def plot_distribution(df, col):\n",
    "    fig, ax =plt.subplots(1,2)\n",
    "    plt.figure(figsize=(40,10))\n",
    "    sns.distplot(df[col], ax=ax[0])  \n",
    "    df.boxplot(column=col, ax=ax[1])\n",
    "    plt.show()\n",
    "\n",
    "# function to find outliers in normally distributed data\n",
    "def find_outliers_normal(data, col):\n",
    "    upper_bound = data[col].mean() + 3*data[col].std()\n",
    "    lower_bound = data[col].mean() - 3*data[col].std()\n",
    "\n",
    "    upper_outliers = len(data.loc[data[col]>upper_bound])\n",
    "    lower_outliers = len(data.loc[data[col]>upper_bound])\n",
    "    \n",
    "    print(\"Outliers in '\",col,\"' Column\")\n",
    "    print(\"Upper Bound - \",upper_bound)\n",
    "    print(\"Lower Bound - \",lower_bound)\n",
    "    print(\"Number of Upper Outliers - \",upper_outliers)\n",
    "    print(\"Number of Lower Outliers - \",lower_outliers)\n",
    "    print(\"\")\n",
    "\n",
    "# function to find outliers in skewed data\n",
    "def find_outliers_skewed(df, col):\n",
    "    IQR = df[col].quantile(0.75)-df[col].quantile(0.25)\n",
    "    \n",
    "    upper_bound = df[col].quantile(0.75) + (IQR*1.5)\n",
    "    lower_bound = df[col].quantile(0.25) - (IQR*1.5)\n",
    "    \n",
    "    upper_outliers = len(df.loc[df[col]>upper_bound])\n",
    "    lower_outliers = len(df.loc[df[col]<lower_bound])\n",
    "    \n",
    "    \n",
    "    print(\"Outliers in '\",col,\"' Column\")\n",
    "    print(\"Upper Bound - \",upper_bound)\n",
    "    print(\"Lower Bound - \",lower_bound)\n",
    "    print(\"Number of Upper Outliers - \",upper_outliers)\n",
    "    print(\"Number of Lower Outliers - \",lower_outliers)\n",
    "    print(\"\")\n",
    "\n",
    "\n",
    "    \n",
    "# function to remove outliers from normally distributed data.\n",
    "def remove_outliers_normal(df, col):\n",
    "    df = df.copy(deep=True)\n",
    "    upper_bound = df[col].mean() + 3*df[col].std()\n",
    "    lower_bound = df[col].mean() - 3*df[col].std()\n",
    "    \n",
    "    df.loc[df[col]>=upper_bound, col] = upper_bound\n",
    "    df.loc[df[col]<=lower_bound, col] = lower_bound\n",
    "    \n",
    "    return df\n",
    "\n",
    "\n",
    "# function to remove outliers from skewed data.\n",
    "def remove_outliers_skewed(df, col):\n",
    "    IQR = df[col].quantile(0.75)-df[col].quantile(0.25)\n",
    "    \n",
    "    upper_bridge = df[col].quantile(0.75) + (IQR*1.5)\n",
    "    lower_bridge = df[col].quantile(0.25) - (IQR*1.5)\n",
    "    \n",
    "    df.loc[df[col]>=upper_bridge, col] = upper_bridge\n",
    "    df.loc[df[col]<=lower_bridge, col] = lower_bridge\n",
    "    \n",
    "    return df"
   ]
  },
  {
   "cell_type": "code",
   "execution_count": null,
   "id": "mathematical-contractor",
   "metadata": {
    "execution": {
     "iopub.execute_input": "2021-06-03T13:42:46.930892Z",
     "iopub.status.busy": "2021-06-03T13:42:46.930243Z",
     "iopub.status.idle": "2021-06-03T13:42:46.933099Z",
     "shell.execute_reply": "2021-06-03T13:42:46.933640Z",
     "shell.execute_reply.started": "2021-06-03T13:21:46.989826Z"
    },
    "papermill": {
     "duration": 0.051656,
     "end_time": "2021-06-03T13:42:46.933821",
     "exception": false,
     "start_time": "2021-06-03T13:42:46.882165",
     "status": "completed"
    },
    "tags": []
   },
   "outputs": [],
   "source": [
    "features_list = list(df.columns)\n",
    "features_list.remove(\"status\")\n",
    "print(features_list)"
   ]
  },
  {
   "cell_type": "code",
   "execution_count": null,
   "id": "under-trade",
   "metadata": {
    "execution": {
     "iopub.execute_input": "2021-06-03T13:42:47.019069Z",
     "iopub.status.busy": "2021-06-03T13:42:47.018344Z",
     "iopub.status.idle": "2021-06-03T13:42:53.952717Z",
     "shell.execute_reply": "2021-06-03T13:42:53.951996Z",
     "shell.execute_reply.started": "2021-06-03T13:21:47.020958Z"
    },
    "papermill": {
     "duration": 6.979058,
     "end_time": "2021-06-03T13:42:53.952888",
     "exception": false,
     "start_time": "2021-06-03T13:42:46.973830",
     "status": "completed"
    },
    "tags": []
   },
   "outputs": [],
   "source": [
    "# plot distplot and boxplots for each column except \"status column\"\n",
    "for i in features_list:\n",
    "    plot_distribution(df, i)"
   ]
  },
  {
   "cell_type": "code",
   "execution_count": null,
   "id": "detected-timber",
   "metadata": {
    "execution": {
     "iopub.execute_input": "2021-06-03T13:42:54.105195Z",
     "iopub.status.busy": "2021-06-03T13:42:54.104075Z",
     "iopub.status.idle": "2021-06-03T13:42:54.265366Z",
     "shell.execute_reply": "2021-06-03T13:42:54.264518Z",
     "shell.execute_reply.started": "2021-06-03T13:21:54.183215Z"
    },
    "papermill": {
     "duration": 0.237187,
     "end_time": "2021-06-03T13:42:54.265542",
     "exception": false,
     "start_time": "2021-06-03T13:42:54.028355",
     "status": "completed"
    },
    "tags": []
   },
   "outputs": [],
   "source": [
    "# find out the outliers in data\n",
    "for i in features_list:\n",
    "    find_outliers_skewed(df, i)"
   ]
  },
  {
   "cell_type": "code",
   "execution_count": null,
   "id": "mexican-array",
   "metadata": {
    "execution": {
     "iopub.execute_input": "2021-06-03T13:42:54.417335Z",
     "iopub.status.busy": "2021-06-03T13:42:54.415145Z",
     "iopub.status.idle": "2021-06-03T13:42:54.515270Z",
     "shell.execute_reply": "2021-06-03T13:42:54.514504Z",
     "shell.execute_reply.started": "2021-06-03T13:21:54.389166Z"
    },
    "papermill": {
     "duration": 0.17674,
     "end_time": "2021-06-03T13:42:54.515453",
     "exception": false,
     "start_time": "2021-06-03T13:42:54.338713",
     "status": "completed"
    },
    "tags": []
   },
   "outputs": [],
   "source": [
    "# remove the outliers from each column\n",
    "for i in features_list:\n",
    "    remove_outliers_skewed(df, i)"
   ]
  },
  {
   "cell_type": "code",
   "execution_count": null,
   "id": "stainless-southeast",
   "metadata": {
    "execution": {
     "iopub.execute_input": "2021-06-03T13:42:54.665076Z",
     "iopub.status.busy": "2021-06-03T13:42:54.663002Z",
     "iopub.status.idle": "2021-06-03T13:42:54.811861Z",
     "shell.execute_reply": "2021-06-03T13:42:54.811220Z",
     "shell.execute_reply.started": "2021-06-03T13:21:54.576869Z"
    },
    "papermill": {
     "duration": 0.225196,
     "end_time": "2021-06-03T13:42:54.812024",
     "exception": false,
     "start_time": "2021-06-03T13:42:54.586828",
     "status": "completed"
    },
    "tags": []
   },
   "outputs": [],
   "source": [
    "# See if their are outliers still exists in data\n",
    "for i in features_list:\n",
    "    find_outliers_skewed(df, i)"
   ]
  },
  {
   "cell_type": "markdown",
   "id": "confirmed-tribute",
   "metadata": {
    "papermill": {
     "duration": 0.06841,
     "end_time": "2021-06-03T13:42:54.948771",
     "exception": false,
     "start_time": "2021-06-03T13:42:54.880361",
     "status": "completed"
    },
    "tags": []
   },
   "source": [
    "# 4. Feature Engineering\n",
    "## 1. Selecting the features by using Heatmap of correlation, removing highly correlated features. \n",
    "   - Heatmap for plotting correlation matrix.\n",
    "   - Create function to remove highly correlated features\n"
   ]
  },
  {
   "cell_type": "code",
   "execution_count": null,
   "id": "meaningful-hanging",
   "metadata": {
    "execution": {
     "iopub.execute_input": "2021-06-03T13:42:55.131856Z",
     "iopub.status.busy": "2021-06-03T13:42:55.131120Z",
     "iopub.status.idle": "2021-06-03T13:42:57.929012Z",
     "shell.execute_reply": "2021-06-03T13:42:57.929506Z",
     "shell.execute_reply.started": "2021-06-03T13:21:54.77735Z"
    },
    "papermill": {
     "duration": 2.886589,
     "end_time": "2021-06-03T13:42:57.929706",
     "exception": false,
     "start_time": "2021-06-03T13:42:55.043117",
     "status": "completed"
    },
    "tags": []
   },
   "outputs": [],
   "source": [
    "plt.figure(figsize=(20,20))\n",
    "sns.heatmap(df.corr(), annot=True)"
   ]
  },
  {
   "cell_type": "code",
   "execution_count": null,
   "id": "conventional-chance",
   "metadata": {
    "execution": {
     "iopub.execute_input": "2021-06-03T13:42:58.096100Z",
     "iopub.status.busy": "2021-06-03T13:42:58.095334Z",
     "iopub.status.idle": "2021-06-03T13:42:58.098823Z",
     "shell.execute_reply": "2021-06-03T13:42:58.099304Z",
     "shell.execute_reply.started": "2021-06-03T13:21:57.615786Z"
    },
    "papermill": {
     "duration": 0.092139,
     "end_time": "2021-06-03T13:42:58.099506",
     "exception": false,
     "start_time": "2021-06-03T13:42:58.007367",
     "status": "completed"
    },
    "tags": []
   },
   "outputs": [],
   "source": [
    "# function to find highly correlated features\n",
    "\n",
    "def highly_correlated_columns(dataset, threshold):\n",
    "    col_corr = set()  # Set of all the names of correlated columns\n",
    "    corr_matrix = dataset.corr()\n",
    "    for i in range(len(corr_matrix.columns)):\n",
    "        for j in range(i):\n",
    "            if abs(corr_matrix.iloc[i, j]) > threshold: # we are interested in absolute coeff value\n",
    "                colname = corr_matrix.columns[i]  # getting the name of column\n",
    "                col_corr.add(colname)\n",
    "    return col_corr"
   ]
  },
  {
   "cell_type": "code",
   "execution_count": null,
   "id": "destroyed-classic",
   "metadata": {
    "execution": {
     "iopub.execute_input": "2021-06-03T13:42:58.264542Z",
     "iopub.status.busy": "2021-06-03T13:42:58.263863Z",
     "iopub.status.idle": "2021-06-03T13:42:58.277246Z",
     "shell.execute_reply": "2021-06-03T13:42:58.277723Z",
     "shell.execute_reply.started": "2021-06-03T13:21:57.626642Z"
    },
    "papermill": {
     "duration": 0.098874,
     "end_time": "2021-06-03T13:42:58.277897",
     "exception": false,
     "start_time": "2021-06-03T13:42:58.179023",
     "status": "completed"
    },
    "tags": []
   },
   "outputs": [],
   "source": [
    "# highly correlated features\n",
    "corr_features = highly_correlated_columns(df, 0.85)\n",
    "corr_features"
   ]
  },
  {
   "cell_type": "code",
   "execution_count": null,
   "id": "express-bargain",
   "metadata": {
    "execution": {
     "iopub.execute_input": "2021-06-03T13:42:58.437123Z",
     "iopub.status.busy": "2021-06-03T13:42:58.436422Z",
     "iopub.status.idle": "2021-06-03T13:42:58.442034Z",
     "shell.execute_reply": "2021-06-03T13:42:58.442505Z",
     "shell.execute_reply.started": "2021-06-03T13:21:57.654068Z"
    },
    "papermill": {
     "duration": 0.086504,
     "end_time": "2021-06-03T13:42:58.442735",
     "exception": false,
     "start_time": "2021-06-03T13:42:58.356231",
     "status": "completed"
    },
    "tags": []
   },
   "outputs": [],
   "source": [
    "# remove correlated features.\n",
    "df.drop(corr_features, axis=1, inplace=True)"
   ]
  },
  {
   "cell_type": "code",
   "execution_count": null,
   "id": "expensive-upper",
   "metadata": {
    "execution": {
     "iopub.execute_input": "2021-06-03T13:42:58.604108Z",
     "iopub.status.busy": "2021-06-03T13:42:58.603246Z",
     "iopub.status.idle": "2021-06-03T13:42:59.696740Z",
     "shell.execute_reply": "2021-06-03T13:42:59.696173Z",
     "shell.execute_reply.started": "2021-06-03T13:21:57.662375Z"
    },
    "papermill": {
     "duration": 1.17555,
     "end_time": "2021-06-03T13:42:59.696895",
     "exception": false,
     "start_time": "2021-06-03T13:42:58.521345",
     "status": "completed"
    },
    "tags": []
   },
   "outputs": [],
   "source": [
    "# See if their are other features which are highly correlated. \n",
    "plt.figure(figsize=(12,12))\n",
    "sns.heatmap(df.corr(), annot=True)"
   ]
  },
  {
   "cell_type": "markdown",
   "id": "indoor-outside",
   "metadata": {
    "papermill": {
     "duration": 0.081114,
     "end_time": "2021-06-03T13:42:59.858278",
     "exception": false,
     "start_time": "2021-06-03T13:42:59.777164",
     "status": "completed"
    },
    "tags": []
   },
   "source": [
    "## 4.2 Handling Imbalance data\n",
    "\n",
    "As we can see their is large imbalance in data, their are 48 records for negative class and 147 for positive class."
   ]
  },
  {
   "cell_type": "code",
   "execution_count": null,
   "id": "alpine-nurse",
   "metadata": {
    "execution": {
     "iopub.execute_input": "2021-06-03T13:43:00.029836Z",
     "iopub.status.busy": "2021-06-03T13:43:00.023490Z",
     "iopub.status.idle": "2021-06-03T13:43:00.144542Z",
     "shell.execute_reply": "2021-06-03T13:43:00.145094Z",
     "shell.execute_reply.started": "2021-06-03T13:21:58.87383Z"
    },
    "papermill": {
     "duration": 0.205608,
     "end_time": "2021-06-03T13:43:00.145290",
     "exception": false,
     "start_time": "2021-06-03T13:42:59.939682",
     "status": "completed"
    },
    "tags": []
   },
   "outputs": [],
   "source": [
    "# split data into target and features\n",
    "x = df.drop([\"status\"], axis=1)\n",
    "y = df[\"status\"]\n",
    "\n",
    "# countplot() to see imbalance in data\n",
    "sns.countplot(y)"
   ]
  },
  {
   "cell_type": "code",
   "execution_count": null,
   "id": "entertaining-yellow",
   "metadata": {
    "execution": {
     "iopub.execute_input": "2021-06-03T13:43:00.313333Z",
     "iopub.status.busy": "2021-06-03T13:43:00.312668Z",
     "iopub.status.idle": "2021-06-03T13:43:00.318191Z",
     "shell.execute_reply": "2021-06-03T13:43:00.318703Z",
     "shell.execute_reply.started": "2021-06-03T13:21:59.008108Z"
    },
    "papermill": {
     "duration": 0.094029,
     "end_time": "2021-06-03T13:43:00.318916",
     "exception": false,
     "start_time": "2021-06-03T13:43:00.224887",
     "status": "completed"
    },
    "tags": []
   },
   "outputs": [],
   "source": [
    "# see how much records are their for each class\n",
    "y.value_counts()"
   ]
  },
  {
   "cell_type": "markdown",
   "id": "julian-debate",
   "metadata": {
    "papermill": {
     "duration": 0.084779,
     "end_time": "2021-06-03T13:43:00.487720",
     "exception": false,
     "start_time": "2021-06-03T13:43:00.402941",
     "status": "completed"
    },
    "tags": []
   },
   "source": [
    "###  Oversampling for imbalance dataset"
   ]
  },
  {
   "cell_type": "code",
   "execution_count": null,
   "id": "respective-competition",
   "metadata": {
    "execution": {
     "iopub.execute_input": "2021-06-03T13:43:00.669749Z",
     "iopub.status.busy": "2021-06-03T13:43:00.669019Z",
     "iopub.status.idle": "2021-06-03T13:43:00.673540Z",
     "shell.execute_reply": "2021-06-03T13:43:00.672886Z",
     "shell.execute_reply.started": "2021-06-03T13:21:59.020506Z"
    },
    "papermill": {
     "duration": 0.102663,
     "end_time": "2021-06-03T13:43:00.673702",
     "exception": false,
     "start_time": "2021-06-03T13:43:00.571039",
     "status": "completed"
    },
    "tags": []
   },
   "outputs": [],
   "source": [
    "over_sampler = RandomOverSampler()\n",
    "\n",
    "x, y = over_sampler.fit_resample(x, y)"
   ]
  },
  {
   "cell_type": "code",
   "execution_count": null,
   "id": "suited-elephant",
   "metadata": {
    "execution": {
     "iopub.execute_input": "2021-06-03T13:43:00.855204Z",
     "iopub.status.busy": "2021-06-03T13:43:00.854517Z",
     "iopub.status.idle": "2021-06-03T13:43:00.977639Z",
     "shell.execute_reply": "2021-06-03T13:43:00.978255Z",
     "shell.execute_reply.started": "2021-06-03T13:21:59.039516Z"
    },
    "papermill": {
     "duration": 0.22073,
     "end_time": "2021-06-03T13:43:00.978438",
     "exception": false,
     "start_time": "2021-06-03T13:43:00.757708",
     "status": "completed"
    },
    "tags": []
   },
   "outputs": [],
   "source": [
    "sns.countplot(y)"
   ]
  },
  {
   "cell_type": "code",
   "execution_count": null,
   "id": "partial-worth",
   "metadata": {
    "execution": {
     "iopub.execute_input": "2021-06-03T13:43:01.169142Z",
     "iopub.status.busy": "2021-06-03T13:43:01.165206Z",
     "iopub.status.idle": "2021-06-03T13:43:01.172694Z",
     "shell.execute_reply": "2021-06-03T13:43:01.173218Z",
     "shell.execute_reply.started": "2021-06-03T13:21:59.18881Z"
    },
    "papermill": {
     "duration": 0.10133,
     "end_time": "2021-06-03T13:43:01.173403",
     "exception": false,
     "start_time": "2021-06-03T13:43:01.072073",
     "status": "completed"
    },
    "tags": []
   },
   "outputs": [],
   "source": [
    "y.value_counts()"
   ]
  },
  {
   "cell_type": "markdown",
   "id": "productive-constitutional",
   "metadata": {
    "papermill": {
     "duration": 0.100339,
     "end_time": "2021-06-03T13:43:01.358539",
     "exception": false,
     "start_time": "2021-06-03T13:43:01.258200",
     "status": "completed"
    },
    "tags": []
   },
   "source": [
    "## 4.3 Splitting Data into Features and Target"
   ]
  },
  {
   "cell_type": "code",
   "execution_count": null,
   "id": "unknown-clarity",
   "metadata": {
    "execution": {
     "iopub.execute_input": "2021-06-03T13:43:01.559603Z",
     "iopub.status.busy": "2021-06-03T13:43:01.557969Z",
     "iopub.status.idle": "2021-06-03T13:43:01.563786Z",
     "shell.execute_reply": "2021-06-03T13:43:01.564534Z",
     "shell.execute_reply.started": "2021-06-03T13:21:59.19942Z"
    },
    "papermill": {
     "duration": 0.114459,
     "end_time": "2021-06-03T13:43:01.564818",
     "exception": false,
     "start_time": "2021-06-03T13:43:01.450359",
     "status": "completed"
    },
    "tags": []
   },
   "outputs": [],
   "source": [
    "x_train, x_test, y_train, y_test = train_test_split(x, y, random_state=42, test_size=0.5)"
   ]
  },
  {
   "cell_type": "markdown",
   "id": "failing-present",
   "metadata": {
    "papermill": {
     "duration": 0.087933,
     "end_time": "2021-06-03T13:43:01.756718",
     "exception": false,
     "start_time": "2021-06-03T13:43:01.668785",
     "status": "completed"
    },
    "tags": []
   },
   "source": [
    "# 5. Predictive Modelling\n",
    "###  Finding the best `n_estimators` value for RandomForest Classifier\n",
    "\n",
    "Find the score for randomFOrest Classifier for each n_estimator value and see which n_estimator gives maximum value."
   ]
  },
  {
   "cell_type": "code",
   "execution_count": null,
   "id": "extensive-mailman",
   "metadata": {
    "execution": {
     "iopub.execute_input": "2021-06-03T13:43:01.943848Z",
     "iopub.status.busy": "2021-06-03T13:43:01.936615Z",
     "iopub.status.idle": "2021-06-03T13:43:12.987969Z",
     "shell.execute_reply": "2021-06-03T13:43:12.987284Z",
     "shell.execute_reply.started": "2021-06-03T13:21:59.218776Z"
    },
    "papermill": {
     "duration": 11.143643,
     "end_time": "2021-06-03T13:43:12.988117",
     "exception": false,
     "start_time": "2021-06-03T13:43:01.844474",
     "status": "completed"
    },
    "tags": []
   },
   "outputs": [],
   "source": [
    "scores = []\n",
    "\n",
    "for i in range(40,150,2):\n",
    "    model = RandomForestClassifier(n_estimators=i, bootstrap=True,)\n",
    "    \n",
    "    model.fit(x_train,y_train)\n",
    "    \n",
    "    scores.append(model.score(x_test,y_test))\n",
    "\n",
    "plt.plot(range(40,150,2), scores)"
   ]
  },
  {
   "cell_type": "code",
   "execution_count": null,
   "id": "threaded-dining",
   "metadata": {
    "execution": {
     "iopub.execute_input": "2021-06-03T13:43:13.169411Z",
     "iopub.status.busy": "2021-06-03T13:43:13.168780Z",
     "iopub.status.idle": "2021-06-03T13:43:13.171641Z",
     "shell.execute_reply": "2021-06-03T13:43:13.171077Z",
     "shell.execute_reply.started": "2021-06-03T13:22:10.207512Z"
    },
    "papermill": {
     "duration": 0.097403,
     "end_time": "2021-06-03T13:43:13.171790",
     "exception": false,
     "start_time": "2021-06-03T13:43:13.074387",
     "status": "completed"
    },
    "tags": []
   },
   "outputs": [],
   "source": [
    "# find the n_estimator value for which score is highest\n",
    "high_score_index = scores.index(max(scores))\n",
    "estimators = np.arange(40,150,2)\n",
    "n_est = estimators[high_score_index]"
   ]
  },
  {
   "cell_type": "markdown",
   "id": "australian-blanket",
   "metadata": {
    "papermill": {
     "duration": 0.089936,
     "end_time": "2021-06-03T13:43:13.349085",
     "exception": false,
     "start_time": "2021-06-03T13:43:13.259149",
     "status": "completed"
    },
    "tags": []
   },
   "source": [
    "### Define RandomForest Classifier"
   ]
  },
  {
   "cell_type": "code",
   "execution_count": null,
   "id": "atmospheric-basketball",
   "metadata": {
    "execution": {
     "iopub.execute_input": "2021-06-03T13:43:13.520461Z",
     "iopub.status.busy": "2021-06-03T13:43:13.519685Z",
     "iopub.status.idle": "2021-06-03T13:43:13.620114Z",
     "shell.execute_reply": "2021-06-03T13:43:13.619560Z",
     "shell.execute_reply.started": "2021-06-03T13:22:10.215502Z"
    },
    "papermill": {
     "duration": 0.187552,
     "end_time": "2021-06-03T13:43:13.620274",
     "exception": false,
     "start_time": "2021-06-03T13:43:13.432722",
     "status": "completed"
    },
    "tags": []
   },
   "outputs": [],
   "source": [
    "rf = RandomForestClassifier(n_estimators=n_est)\n",
    "rf.fit(x_train,y_train)"
   ]
  },
  {
   "cell_type": "code",
   "execution_count": null,
   "id": "sacred-identification",
   "metadata": {
    "execution": {
     "iopub.execute_input": "2021-06-03T13:43:13.794987Z",
     "iopub.status.busy": "2021-06-03T13:43:13.794294Z",
     "iopub.status.idle": "2021-06-03T13:43:13.802096Z",
     "shell.execute_reply": "2021-06-03T13:43:13.802563Z",
     "shell.execute_reply.started": "2021-06-03T13:22:10.351565Z"
    },
    "papermill": {
     "duration": 0.098944,
     "end_time": "2021-06-03T13:43:13.802896",
     "exception": false,
     "start_time": "2021-06-03T13:43:13.703952",
     "status": "completed"
    },
    "tags": []
   },
   "outputs": [],
   "source": [
    "y_pred = rf.predict(x_test)"
   ]
  },
  {
   "cell_type": "markdown",
   "id": "isolated-relation",
   "metadata": {
    "papermill": {
     "duration": 0.08628,
     "end_time": "2021-06-03T13:43:13.972217",
     "exception": false,
     "start_time": "2021-06-03T13:43:13.885937",
     "status": "completed"
    },
    "tags": []
   },
   "source": [
    "### Evaluation of RandomForest Classifier"
   ]
  },
  {
   "cell_type": "code",
   "execution_count": null,
   "id": "preceding-borough",
   "metadata": {
    "execution": {
     "iopub.execute_input": "2021-06-03T13:43:14.144078Z",
     "iopub.status.busy": "2021-06-03T13:43:14.143416Z",
     "iopub.status.idle": "2021-06-03T13:43:14.153973Z",
     "shell.execute_reply": "2021-06-03T13:43:14.153155Z",
     "shell.execute_reply.started": "2021-06-03T13:22:10.36839Z"
    },
    "papermill": {
     "duration": 0.09626,
     "end_time": "2021-06-03T13:43:14.154168",
     "exception": false,
     "start_time": "2021-06-03T13:43:14.057908",
     "status": "completed"
    },
    "tags": []
   },
   "outputs": [],
   "source": [
    "# Classification report for random forest classifier\n",
    "cr = classification_report(y_test, y_pred)\n",
    "print(cr)"
   ]
  },
  {
   "cell_type": "code",
   "execution_count": null,
   "id": "manufactured-thermal",
   "metadata": {
    "execution": {
     "iopub.execute_input": "2021-06-03T13:43:14.331252Z",
     "iopub.status.busy": "2021-06-03T13:43:14.330640Z",
     "iopub.status.idle": "2021-06-03T13:43:14.339890Z",
     "shell.execute_reply": "2021-06-03T13:43:14.340422Z",
     "shell.execute_reply.started": "2021-06-03T13:22:10.385262Z"
    },
    "papermill": {
     "duration": 0.099039,
     "end_time": "2021-06-03T13:43:14.340642",
     "exception": false,
     "start_time": "2021-06-03T13:43:14.241603",
     "status": "completed"
    },
    "tags": []
   },
   "outputs": [],
   "source": [
    "# Confusion matrix \n",
    "confusion_matrix(y_test, y_pred)"
   ]
  },
  {
   "cell_type": "code",
   "execution_count": null,
   "id": "fifth-clark",
   "metadata": {
    "execution": {
     "iopub.execute_input": "2021-06-03T13:43:14.529618Z",
     "iopub.status.busy": "2021-06-03T13:43:14.528717Z",
     "iopub.status.idle": "2021-06-03T13:43:14.540693Z",
     "shell.execute_reply": "2021-06-03T13:43:14.540128Z",
     "shell.execute_reply.started": "2021-06-03T13:22:10.399667Z"
    },
    "papermill": {
     "duration": 0.109163,
     "end_time": "2021-06-03T13:43:14.540846",
     "exception": false,
     "start_time": "2021-06-03T13:43:14.431683",
     "status": "completed"
    },
    "tags": []
   },
   "outputs": [],
   "source": [
    "# Score for model\n",
    "rf.score(x_test, y_test)"
   ]
  },
  {
   "cell_type": "markdown",
   "id": "rotary-judge",
   "metadata": {
    "papermill": {
     "duration": 0.08975,
     "end_time": "2021-06-03T13:43:14.719486",
     "exception": false,
     "start_time": "2021-06-03T13:43:14.629736",
     "status": "completed"
    },
    "tags": []
   },
   "source": [
    "# 6. Hyperparameter Tuning "
   ]
  },
  {
   "cell_type": "code",
   "execution_count": null,
   "id": "pointed-modern",
   "metadata": {
    "execution": {
     "iopub.execute_input": "2021-06-03T13:43:14.912153Z",
     "iopub.status.busy": "2021-06-03T13:43:14.907943Z",
     "iopub.status.idle": "2021-06-03T13:44:02.989530Z",
     "shell.execute_reply": "2021-06-03T13:44:02.988595Z",
     "shell.execute_reply.started": "2021-06-03T13:22:10.423507Z"
    },
    "papermill": {
     "duration": 48.183462,
     "end_time": "2021-06-03T13:44:02.989782",
     "exception": false,
     "start_time": "2021-06-03T13:43:14.806320",
     "status": "completed"
    },
    "tags": []
   },
   "outputs": [],
   "source": [
    "# Number of trees in random forest\n",
    "n_estimators = [int(x) for x in np.linspace(start = 200, stop = 1000, num = 5)]\n",
    "\n",
    "# Number of features to consider at every split\n",
    "max_features = ['auto', 'sqrt','log2']\n",
    "\n",
    "# Maximum number of levels in tree\n",
    "max_depth = [int(x) for x in np.linspace(5,50,10)]\n",
    "\n",
    "# Minimum number of samples required to split a node\n",
    "min_samples_split = [2, 5, 10,14]\n",
    "\n",
    "# Minimum number of samples required at each leaf node\n",
    "min_samples_leaf = [1, 2, 4,6,8]\n",
    "\n",
    "# parameter dictionary for RandomizedSearchCV \n",
    "params = { 'max_features': max_features,\n",
    "           'max_depth': max_depth,\n",
    "           'min_samples_split': min_samples_split,\n",
    "           'min_samples_leaf': min_samples_leaf,\n",
    "           'criterion':['entropy','gini']}\n",
    "\n",
    "\n",
    "rf_randomcv = RandomizedSearchCV(estimator=rf, param_distributions=params, n_iter=100, cv=5, verbose=2)\n",
    "\n",
    "rf_randomcv.fit(x_train, y_train)"
   ]
  },
  {
   "cell_type": "code",
   "execution_count": null,
   "id": "forward-background",
   "metadata": {
    "execution": {
     "iopub.execute_input": "2021-06-03T13:44:03.284500Z",
     "iopub.status.busy": "2021-06-03T13:44:03.281118Z",
     "iopub.status.idle": "2021-06-03T13:44:03.290814Z",
     "shell.execute_reply": "2021-06-03T13:44:03.291287Z",
     "shell.execute_reply.started": "2021-06-03T13:23:10.01059Z"
    },
    "papermill": {
     "duration": 0.160487,
     "end_time": "2021-06-03T13:44:03.291493",
     "exception": false,
     "start_time": "2021-06-03T13:44:03.131006",
     "status": "completed"
    },
    "tags": []
   },
   "outputs": [],
   "source": [
    "y_prediction  = rf_randomcv.predict(x_test)"
   ]
  },
  {
   "cell_type": "code",
   "execution_count": null,
   "id": "disturbed-coach",
   "metadata": {
    "execution": {
     "iopub.execute_input": "2021-06-03T13:44:03.576880Z",
     "iopub.status.busy": "2021-06-03T13:44:03.576110Z",
     "iopub.status.idle": "2021-06-03T13:44:03.586935Z",
     "shell.execute_reply": "2021-06-03T13:44:03.586272Z",
     "shell.execute_reply.started": "2021-06-03T13:23:10.028877Z"
    },
    "papermill": {
     "duration": 0.157019,
     "end_time": "2021-06-03T13:44:03.587088",
     "exception": false,
     "start_time": "2021-06-03T13:44:03.430069",
     "status": "completed"
    },
    "tags": []
   },
   "outputs": [],
   "source": [
    "# Classification report for random forest classifier after hyperparamter tuning\n",
    "cr = classification_report(y_test, y_prediction)\n",
    "print(cr)"
   ]
  },
  {
   "cell_type": "code",
   "execution_count": null,
   "id": "encouraging-glory",
   "metadata": {
    "execution": {
     "iopub.execute_input": "2021-06-03T13:44:03.881697Z",
     "iopub.status.busy": "2021-06-03T13:44:03.881010Z",
     "iopub.status.idle": "2021-06-03T13:44:03.885277Z",
     "shell.execute_reply": "2021-06-03T13:44:03.884736Z",
     "shell.execute_reply.started": "2021-06-03T13:23:10.051115Z"
    },
    "papermill": {
     "duration": 0.155706,
     "end_time": "2021-06-03T13:44:03.885432",
     "exception": false,
     "start_time": "2021-06-03T13:44:03.729726",
     "status": "completed"
    },
    "tags": []
   },
   "outputs": [],
   "source": [
    "# Confusion matrix  after hyperparamter tuning\n",
    "confusion_matrix(y_test, y_prediction)"
   ]
  },
  {
   "cell_type": "code",
   "execution_count": null,
   "id": "north-major",
   "metadata": {
    "execution": {
     "iopub.execute_input": "2021-06-03T13:44:04.182200Z",
     "iopub.status.busy": "2021-06-03T13:44:04.181257Z",
     "iopub.status.idle": "2021-06-03T13:44:04.194642Z",
     "shell.execute_reply": "2021-06-03T13:44:04.193215Z",
     "shell.execute_reply.started": "2021-06-03T13:23:10.068809Z"
    },
    "papermill": {
     "duration": 0.1631,
     "end_time": "2021-06-03T13:44:04.194844",
     "exception": false,
     "start_time": "2021-06-03T13:44:04.031744",
     "status": "completed"
    },
    "tags": []
   },
   "outputs": [],
   "source": [
    "# Score for model after hyperparamter tuning\n",
    "rf_randomcv.score(x_test, y_test)"
   ]
  },
  {
   "cell_type": "code",
   "execution_count": null,
   "id": "complete-remark",
   "metadata": {
    "execution": {
     "iopub.execute_input": "2021-06-03T13:44:04.496026Z",
     "iopub.status.busy": "2021-06-03T13:44:04.494972Z",
     "iopub.status.idle": "2021-06-03T13:44:04.499372Z",
     "shell.execute_reply": "2021-06-03T13:44:04.498883Z",
     "shell.execute_reply.started": "2021-06-03T13:23:10.104634Z"
    },
    "papermill": {
     "duration": 0.15976,
     "end_time": "2021-06-03T13:44:04.499520",
     "exception": false,
     "start_time": "2021-06-03T13:44:04.339760",
     "status": "completed"
    },
    "tags": []
   },
   "outputs": [],
   "source": [
    "# Best hyperparameter values  after hyperparamter tuning\n",
    "rf_randomcv.best_params_"
   ]
  },
  {
   "cell_type": "markdown",
   "id": "dirty-horse",
   "metadata": {
    "papermill": {
     "duration": 0.139185,
     "end_time": "2021-06-03T13:44:04.782984",
     "exception": false,
     "start_time": "2021-06-03T13:44:04.643799",
     "status": "completed"
    },
    "tags": []
   },
   "source": [
    "# Thank you !!!"
   ]
  }
 ],
 "metadata": {
  "kernelspec": {
   "display_name": "Python 3",
   "language": "python",
   "name": "python3"
  },
  "language_info": {
   "codemirror_mode": {
    "name": "ipython",
    "version": 3
   },
   "file_extension": ".py",
   "mimetype": "text/x-python",
   "name": "python",
   "nbconvert_exporter": "python",
   "pygments_lexer": "ipython3",
   "version": "3.8.8"
  },
  "papermill": {
   "default_parameters": {},
   "duration": 92.076928,
   "end_time": "2021-06-03T13:44:06.293901",
   "environment_variables": {},
   "exception": null,
   "input_path": "__notebook__.ipynb",
   "output_path": "__notebook__.ipynb",
   "parameters": {},
   "start_time": "2021-06-03T13:42:34.216973",
   "version": "2.3.3"
  }
 },
 "nbformat": 4,
 "nbformat_minor": 5
}
