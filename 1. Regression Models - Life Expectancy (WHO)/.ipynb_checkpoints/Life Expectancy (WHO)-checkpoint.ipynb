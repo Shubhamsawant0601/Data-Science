{
 "cells": [
  {
   "cell_type": "markdown",
   "id": "1181e271",
   "metadata": {},
   "source": [
    "# Life Expectancy (WHO)\n",
    "#### Regression Models for predicting Life Expectancy according to WHO dataset.\n",
    "\n",
    "### Context\n",
    "Although there have been lot of studies undertaken in the past on factors affecting life expectancy considering demographic variables, income composition and mortality rates. It was found that affect of immunization and human development index was not taken into account in the past. Also, some of the past research was done considering multiple linear regression based on data set of one year for all the countries. Hence, this gives motivation to resolve both the factors stated previously by formulating a regression model based on mixed effects model and multiple linear regression while considering data from a period of 2000 to 2015 for all the countries. Important immunization like Hepatitis B, Polio and Diphtheria will also be considered. In a nutshell, this study will focus on immunization factors, mortality factors, economic factors, social factors and other health related factors as well. Since the observations this dataset are based on different countries, it will be easier for a country to determine the predicting factor which is contributing to lower value of life expectancy. This will help in suggesting a country which area should be given importance in order to efficiently improve the life expectancy of its population.\n",
    "\n",
    "### Content\n",
    "The project relies on accuracy of data. The Global Health Observatory (GHO) data repository under World Health Organization (WHO) keeps track of the health status as well as many other related factors for all countries The data-sets are made available to public for the purpose of health data analysis. The data-set related to life expectancy, health factors for 193 countries has been collected from the same WHO data repository website and its corresponding economic data was collected from United Nation website. Among all categories of health-related factors only those critical factors were chosen which are more representative. It has been observed that in the past 15 years , there has been a huge development in health sector resulting in improvement of human mortality rates especially in the developing nations in comparison to the past 30 years. Therefore, in this project we have considered data from year 2000-2015 for 193 countries for further analysis. The individual data files have been merged together into a single data-set. On initial visual inspection of the data showed some missing values. As the data-sets were from WHO, we found no evident errors. Missing data was handled in R software by using Missmap command. The result indicated that most of the missing data was for population, Hepatitis B and GDP. The missing data were from less known countries like Vanuatu, Tonga, Togo, Cabo Verde etc. Finding all data for these countries was difficult and hence, it was decided that we exclude these countries from the final model data-set. The final merged file(final dataset) consists of 22 Columns and 2938 rows which meant 20 predicting variables. All predicting variables was then divided into several broad categories:​Immunization related factors, Mortality factors, Economical factors and Social factors.\n",
    "\n",
    "### Acknowledgements\n",
    "The data was collected from WHO and United Nations website with the help of Deeksha Russell and Duan Wang.\n",
    "\n",
    "- Inspiration\n",
    "- The data-set aims to answer the following key questions:\n",
    "\n",
    "- Does various predicting factors which has been chosen initially really affect the Life expectancy? What are the predicting variables actually affecting the life expectancy?\n",
    "\n",
    "- Should a country having a lower life expectancy value(<65) increase its healthcare expenditure in order to improve its average lifespan?\n",
    "\n",
    "- How does Infant and Adult mortality rates affect life expectancy?\n",
    "\n",
    "- Does Life Expectancy has positive or negative correlation with eating habits, lifestyle, exercise, smoking, drinking alcohol etc.\n",
    "\n",
    "- What is the impact of schooling on the lifespan of humans?\n",
    "\n",
    "- Does Life Expectancy have positive or negative relationship with drinking alcohol?\n",
    "\n",
    "- Do densely populated countries tend to have lower life expectancy?\n",
    "\n",
    "- What is the impact of Immunization coverage on life Expectancy?"
   ]
  },
  {
   "cell_type": "markdown",
   "id": "d4284562",
   "metadata": {},
   "source": [
    "# 1. Importing Ml Libraries & Dataset"
   ]
  },
  {
   "cell_type": "code",
   "execution_count": 1,
   "id": "90d49ed2",
   "metadata": {},
   "outputs": [
    {
     "ename": "ModuleNotFoundError",
     "evalue": "No module named 'xgboost'",
     "output_type": "error",
     "traceback": [
      "\u001b[1;31m---------------------------------------------------------------------------\u001b[0m",
      "\u001b[1;31mModuleNotFoundError\u001b[0m                       Traceback (most recent call last)",
      "\u001b[1;32m<ipython-input-1-bb57b7a960d1>\u001b[0m in \u001b[0;36m<module>\u001b[1;34m\u001b[0m\n\u001b[0;32m     19\u001b[0m \u001b[1;32mfrom\u001b[0m \u001b[0msklearn\u001b[0m\u001b[1;33m.\u001b[0m\u001b[0mtree\u001b[0m \u001b[1;32mimport\u001b[0m \u001b[0mDecisionTreeRegressor\u001b[0m\u001b[1;33m\u001b[0m\u001b[1;33m\u001b[0m\u001b[0m\n\u001b[0;32m     20\u001b[0m \u001b[1;32mfrom\u001b[0m \u001b[0msklearn\u001b[0m\u001b[1;33m.\u001b[0m\u001b[0mensemble\u001b[0m \u001b[1;32mimport\u001b[0m \u001b[0mRandomForestRegressor\u001b[0m\u001b[1;33m,\u001b[0m \u001b[0mAdaBoostRegressor\u001b[0m\u001b[1;33m,\u001b[0m \u001b[0mGradientBoostingRegressor\u001b[0m\u001b[1;33m\u001b[0m\u001b[1;33m\u001b[0m\u001b[0m\n\u001b[1;32m---> 21\u001b[1;33m \u001b[1;32mfrom\u001b[0m \u001b[0mxgboost\u001b[0m \u001b[1;32mimport\u001b[0m \u001b[0mXGBRegressor\u001b[0m\u001b[1;33m\u001b[0m\u001b[1;33m\u001b[0m\u001b[0m\n\u001b[0m\u001b[0;32m     22\u001b[0m \u001b[1;32mfrom\u001b[0m \u001b[0mmlxtend\u001b[0m\u001b[1;33m.\u001b[0m\u001b[0mregressor\u001b[0m \u001b[1;32mimport\u001b[0m \u001b[0mStackingCVRegressor\u001b[0m\u001b[1;33m\u001b[0m\u001b[1;33m\u001b[0m\u001b[0m\n\u001b[0;32m     23\u001b[0m \u001b[1;33m\u001b[0m\u001b[0m\n",
      "\u001b[1;31mModuleNotFoundError\u001b[0m: No module named 'xgboost'"
     ]
    }
   ],
   "source": [
    "# basic libraries\n",
    "import pandas as pd\n",
    "import numpy as np\n",
    "import seaborn as sns\n",
    "import matplotlib.pyplot as plt\n",
    "import warnings \n",
    "import datetime\n",
    "import math\n",
    "\n",
    "# librabries for data preprocessing\n",
    "from sklearn.preprocessing import LabelEncoder\n",
    "from sklearn.preprocessing import StandardScaler\n",
    "\n",
    "# libraries for ML Models\n",
    "from sklearn.model_selection import train_test_split\n",
    "from sklearn.linear_model import LinearRegression, Ridge, RidgeCV,Lasso,LassoCV\n",
    "from sklearn.svm import SVR\n",
    "from sklearn.neighbors import KNeighborsRegressor\n",
    "from sklearn.tree import DecisionTreeRegressor\n",
    "from sklearn.ensemble import RandomForestRegressor, AdaBoostRegressor, GradientBoostingRegressor\n",
    "from xgboost import XGBRegressor\n",
    "from mlxtend.regressor import StackingCVRegressor\n",
    "\n",
    "# libraries for model evaluation\n",
    "from sklearn.metrics import mean_absolute_percentage_error, mean_squared_error, mean_absolute_error\n",
    "\n",
    "# libraries for hyperparameter tuning\n",
    "from sklearn.model_selection import GridSearchCV, RandomizedSearchCV\n",
    "\n",
    "# visualization\n",
    "from yellowbrick.regressor import residuals_plot,prediction_error\n",
    "\n",
    "# to ignore warnings\n",
    "warnings.filterwarnings(\"ignore\")\n",
    "%matplotlib inline\n",
    "sns.set_style(\"whitegrid\")"
   ]
  },
  {
   "cell_type": "markdown",
   "id": "e3712b7b",
   "metadata": {},
   "source": [
    "### Importing data"
   ]
  },
  {
   "cell_type": "code",
   "execution_count": null,
   "id": "a8e05016",
   "metadata": {
    "scrolled": true
   },
   "outputs": [],
   "source": [
    "df = pd.read_csv(\"Life Expectancy Data.csv\")\n",
    "df"
   ]
  },
  {
   "cell_type": "code",
   "execution_count": null,
   "id": "3d189569",
   "metadata": {},
   "outputs": [],
   "source": [
    "df.shape"
   ]
  },
  {
   "cell_type": "code",
   "execution_count": null,
   "id": "4dec92a1",
   "metadata": {},
   "outputs": [],
   "source": [
    "df.info()"
   ]
  },
  {
   "cell_type": "markdown",
   "id": "8c5c87f7",
   "metadata": {},
   "source": [
    "# 2. Data Cleaning\n",
    "## 2.1 Null Values"
   ]
  },
  {
   "cell_type": "code",
   "execution_count": null,
   "id": "c6d3c122",
   "metadata": {},
   "outputs": [],
   "source": [
    "# Function to find out missing values\n",
    "def check_na(data):\n",
    "    missing_values= data.isna().sum().reset_index()\n",
    "    missing_values.columns= [\"Features\", \"Missing_Values\"]\n",
    "    missing_values[\"Missing_Percent\"]= round(missing_values.Missing_Values/len(data)*100,2)\n",
    "    missing_values = missing_values[missing_values.Missing_Values > 0 ]\n",
    "\n",
    "    return missing_values.sort_values(\"Missing_Percent\", ascending=False).reset_index(drop=True)"
   ]
  },
  {
   "cell_type": "code",
   "execution_count": null,
   "id": "c9c126a0",
   "metadata": {},
   "outputs": [],
   "source": [
    "# List of Null value features\n",
    "missing_values = check_na(df)\n",
    "missing_values"
   ]
  },
  {
   "cell_type": "code",
   "execution_count": null,
   "id": "65b9f21d",
   "metadata": {},
   "outputs": [],
   "source": [
    "# Function to impute null/missing values with Mean, Median, Mode\n",
    "def missing_value_imputer(data, feature, method):\n",
    "    if method == \"mode\":\n",
    "        data[feature] = data[feature].fillna(data[feature].mode()[0])\n",
    "    elif method == \"median\":\n",
    "        data[feature] = data[feature].fillna(data[feature].median())\n",
    "    else:\n",
    "        data[feature] = data[feature].fillna(data[feature].mean())\n",
    "    return data"
   ]
  },
  {
   "cell_type": "code",
   "execution_count": null,
   "id": "1f7a91fa",
   "metadata": {},
   "outputs": [],
   "source": [
    "# Imputing the missing values for each column having missing values\n",
    "for feature in missing_values[\"Features\"]:\n",
    "    missing_value_imputer(data= df, feature=feature, method=\"median\")"
   ]
  },
  {
   "cell_type": "code",
   "execution_count": null,
   "id": "bf458460",
   "metadata": {},
   "outputs": [],
   "source": [
    "# Check missing values\n",
    "missing_values = check_na(df)\n",
    "missing_values"
   ]
  },
  {
   "cell_type": "markdown",
   "id": "1dc715b3",
   "metadata": {},
   "source": [
    "#### We have imputed the missing values with median of respective features with the help of missing_value_imputer() function "
   ]
  },
  {
   "cell_type": "markdown",
   "id": "0c7207a5",
   "metadata": {},
   "source": [
    "## 2.2 Categorical and Numerical Data"
   ]
  },
  {
   "cell_type": "code",
   "execution_count": null,
   "id": "8f66aca0",
   "metadata": {},
   "outputs": [],
   "source": [
    "# Finding out which features have categorical values and which one of them have numerical values.\n",
    "categorical = df.select_dtypes(include=\"O\")\n",
    "numerical = df.select_dtypes(exclude=\"O\")"
   ]
  },
  {
   "cell_type": "code",
   "execution_count": null,
   "id": "43c008e6",
   "metadata": {},
   "outputs": [],
   "source": [
    "categorical"
   ]
  },
  {
   "cell_type": "code",
   "execution_count": null,
   "id": "5dcea83e",
   "metadata": {},
   "outputs": [],
   "source": [
    "# Label encoding the categorical features \n",
    "columns = categorical.columns\n",
    "def label_enoder(data, columns):\n",
    "    for feature in columns:\n",
    "        le = LabelEncoder()\n",
    "        data[feature]= le.fit_transform(data[feature])\n",
    "        data[feature].astype(\"int64\")\n",
    "    return data"
   ]
  },
  {
   "cell_type": "code",
   "execution_count": null,
   "id": "32d86e4e",
   "metadata": {},
   "outputs": [],
   "source": [
    "df = label_enoder(df, categorical.columns)\n",
    "df"
   ]
  },
  {
   "cell_type": "markdown",
   "id": "4f46e146",
   "metadata": {},
   "source": [
    "# 3. Feature Engineering"
   ]
  },
  {
   "cell_type": "markdown",
   "id": "7fa9c73a",
   "metadata": {},
   "source": [
    "### Correlation matrix\n",
    "Finding the feature correlation from heatmap to see which two features are highly correlated, so that unnecessary features could be deleted."
   ]
  },
  {
   "cell_type": "code",
   "execution_count": null,
   "id": "635f04f6",
   "metadata": {},
   "outputs": [],
   "source": [
    "plt.figure(figsize=(20,20))\n",
    "sns.heatmap(df.corr(), annot=True)\n",
    "plt.show()"
   ]
  },
  {
   "cell_type": "code",
   "execution_count": null,
   "id": "3e6ffe77",
   "metadata": {},
   "outputs": [],
   "source": [
    "# Function to find and remove correlated features\n",
    "def correlation(dataset, threshold):\n",
    "    col_corr = set()  # Set of all the names of correlated columns\n",
    "    corr_matrix = dataset.corr()\n",
    "    for i in range(len(corr_matrix.columns)):\n",
    "        for j in range(i):\n",
    "            if abs(corr_matrix.iloc[i, j]) > threshold: # we are interested in absolute coeff value\n",
    "                colname = corr_matrix.columns[i]  # getting the name of column\n",
    "                col_corr.add(colname)\n",
    "    return col_corr"
   ]
  },
  {
   "cell_type": "code",
   "execution_count": null,
   "id": "b33006a5",
   "metadata": {},
   "outputs": [],
   "source": [
    "droppable_features = list(correlation(df, 0.8))\n",
    "droppable_features"
   ]
  },
  {
   "cell_type": "code",
   "execution_count": null,
   "id": "22b5dbc3",
   "metadata": {},
   "outputs": [],
   "source": [
    "df.drop(droppable_features, axis=1, inplace=True)"
   ]
  },
  {
   "cell_type": "markdown",
   "id": "e87d223e",
   "metadata": {},
   "source": [
    "Here, we dropped the features which are highly correlated to another feature hence does not give cause information gain, so we can delete them to reduce dimensionality.\n",
    "\n",
    "correlation() function returns the columns which cn be dropped as they are having correlation higher than given threshold value"
   ]
  },
  {
   "cell_type": "markdown",
   "id": "f151521c",
   "metadata": {},
   "source": [
    "### Feature Selection"
   ]
  },
  {
   "cell_type": "code",
   "execution_count": null,
   "id": "b148bd1f",
   "metadata": {},
   "outputs": [],
   "source": [
    "df"
   ]
  },
  {
   "cell_type": "code",
   "execution_count": null,
   "id": "ba119dc6",
   "metadata": {},
   "outputs": [],
   "source": [
    "from sklearn.feature_selection import mutual_info_regression\n",
    "\n",
    "x = df.drop([\"Life expectancy \"], axis=1)\n",
    "y = df[\"Life expectancy \"]\n",
    "\n",
    "# Function to get the features and their mutual information gain for regression\n",
    "def select_features_mutual_info_regression(x, y):\n",
    "    mutual_info = mutual_info_regression(x,y)\n",
    "    mutual_data=pd.Series(mutual_info,index = x.columns)\n",
    "    return mutual_data.sort_values(ascending=False)\n",
    "\n",
    "top_features = select_features_mutual_info_regression(x, y)\n",
    "top_features"
   ]
  },
  {
   "cell_type": "code",
   "execution_count": null,
   "id": "92784cfb",
   "metadata": {},
   "outputs": [],
   "source": [
    "# Selecting top 15 features with highest mutual information gain\n",
    "top_features = top_features.head(15)\n",
    "top_features"
   ]
  },
  {
   "cell_type": "markdown",
   "id": "09b861ee",
   "metadata": {},
   "source": [
    "### Splitting Data into Features and Target"
   ]
  },
  {
   "cell_type": "code",
   "execution_count": null,
   "id": "75b18ca6",
   "metadata": {},
   "outputs": [],
   "source": [
    "# Splitting data into Features\n",
    "x = df[top_features.index]\n",
    "x"
   ]
  },
  {
   "cell_type": "code",
   "execution_count": null,
   "id": "c73a3c96",
   "metadata": {},
   "outputs": [],
   "source": [
    "# Splitting data into Target\n",
    "y = df[\"Life expectancy \"]\n",
    "y"
   ]
  },
  {
   "cell_type": "markdown",
   "id": "b4fb14fb",
   "metadata": {},
   "source": [
    "### Feature Transformation"
   ]
  },
  {
   "cell_type": "code",
   "execution_count": null,
   "id": "d0848286",
   "metadata": {},
   "outputs": [],
   "source": [
    "def scaler_transform(data):\n",
    "    columns = data.columns\n",
    "    sc = StandardScaler()\n",
    "    for i in columns:\n",
    "        data[[i]] = sc.fit_transform(df[[i]])\n",
    "        \n",
    "    return data"
   ]
  },
  {
   "cell_type": "code",
   "execution_count": null,
   "id": "d0cfcced",
   "metadata": {},
   "outputs": [],
   "source": [
    "x = scaler_transform(x)"
   ]
  },
  {
   "cell_type": "markdown",
   "id": "c643641e",
   "metadata": {},
   "source": [
    "# 4. Predictive Model"
   ]
  },
  {
   "cell_type": "markdown",
   "id": "c58d8e47",
   "metadata": {},
   "source": [
    "### Splitting data into Training and Testing Datasets"
   ]
  },
  {
   "cell_type": "code",
   "execution_count": null,
   "id": "ef6e1b8b",
   "metadata": {},
   "outputs": [],
   "source": [
    "x_train, x_test, y_train, y_test= train_test_split(x, y, test_size= 0.3, random_state=0)"
   ]
  },
  {
   "cell_type": "code",
   "execution_count": null,
   "id": "d4b80033",
   "metadata": {},
   "outputs": [],
   "source": [
    "# Function to apply Regression algorithms and return the results of models\n",
    "def predictive_models():\n",
    "    algorithms = [LinearRegression(), Ridge(alpha=0.1), RidgeCV(alphas=[0.1,0.01,0.001,1],cv=10), Lasso(alpha=0.1), LassoCV(alphas=[0.1,0.01,0.001,1],cv=10), SVR(), KNeighborsRegressor(), DecisionTreeRegressor(), RandomForestRegressor(),GradientBoostingRegressor(), AdaBoostRegressor(), XGBRegressor(),\n",
    "                  StackingCVRegressor(regressors=(LinearRegression(), Ridge(alpha=0.1), RidgeCV(alphas=[0.1,0.01,0.001,1],cv=10), Lasso(alpha=0.1), LassoCV(alphas=[0.1,0.01,0.001,1],cv=10), SVR(), KNeighborsRegressor(), DecisionTreeRegressor(), RandomForestRegressor(),GradientBoostingRegressor(),AdaBoostRegressor(), XGBRegressor()),meta_regressor=Ridge(), use_features_in_secondary=True,cv=30)]\n",
    "    algorithm_names = [\"Linear Regression\",  \"Ridge\", \"RidgeCV\", \"Lasso\",\" LassoCV\", \"SVR\", \"KNeighbors Regressor\", \"Decision-Tree Regressor\", \"Random-Forest Regressor\", \"Gradient Boosting Regressor\", \"Ada-Boost Regressor\", \"XGB-Regressor\",\"Stacked Regressor\"]\n",
    "    \n",
    "    # Errors for training data\n",
    "    Mean_Squared_Error_Training = []\n",
    "    Mean_Absolute_Error_Training = []\n",
    "    Accuracy_Training = []\n",
    "    \n",
    "    # Errors for testing data\n",
    "    Mean_Squared_Error_Testing = []\n",
    "    Mean_Absolute_Error_Testing = []\n",
    "    Accuracy_Testing = []\n",
    "    \n",
    "    # Regression models\n",
    "    for i in algorithms:\n",
    "        model = i\n",
    "        model.fit(x_train,y_train)\n",
    "    \n",
    "        y_test_predict = model.predict(x_test)\n",
    "        y_train_predict = model.predict(x_train)\n",
    "            \n",
    "        mse_1 = round(mean_squared_error(y_train, y_train_predict),4)\n",
    "        mae_1 = round(mean_absolute_error(y_train, y_train_predict),4)\n",
    "        acc_1 = round((1-mean_absolute_percentage_error(y_train, y_train_predict))*100,4)\n",
    "        \n",
    "        mse_2 = round(mean_squared_error(y_test, y_test_predict),4)\n",
    "        mae_2 = round(mean_absolute_error(y_test, y_test_predict),4)\n",
    "        acc_2 = round((1-mean_absolute_percentage_error(y_test, y_test_predict))*100,4)\n",
    "        \n",
    "        # Appending the Errors into the list for training data\n",
    "        Mean_Squared_Error_Training.append(mse_1)\n",
    "        Mean_Absolute_Error_Training.append(mae_1)\n",
    "        Accuracy_Training.append(acc_1)\n",
    "                \n",
    "        # Appending the Errors into the list for training data\n",
    "        Mean_Squared_Error_Testing.append(mse_2)\n",
    "        Mean_Absolute_Error_Testing.append(mae_2)\n",
    "        Accuracy_Testing.append(acc_2)\n",
    "        \n",
    "    # Creating DataFrame for Logs of Models and their errors    \n",
    "    results = pd.DataFrame({\"Models\":algorithm_names,\n",
    "                            \"Mean Squared Error Training\":Mean_Squared_Error_Training,\n",
    "                            \"Mean Absolute Error Training\":Mean_Absolute_Error_Training,\n",
    "                            \"Accuracy_Training %\":Accuracy_Training,                          \n",
    "                            \"Mean Squared Error Testing\":Mean_Squared_Error_Testing,\n",
    "                            \"Mean Absolute Error Testing\":Mean_Absolute_Error_Testing,\n",
    "                            \"Accuracy Testing %\":Accuracy_Testing})\n",
    "\n",
    "    return results.sort_values(\"Accuracy Testing %\", ascending=False).reset_index(drop=True)"
   ]
  },
  {
   "cell_type": "code",
   "execution_count": null,
   "id": "005ec732",
   "metadata": {},
   "outputs": [],
   "source": [
    "results = predictive_models()\n",
    "results"
   ]
  },
  {
   "cell_type": "markdown",
   "id": "0dea21b8",
   "metadata": {},
   "source": [
    "# XGBRegressor\n",
    "### Hyperparameter Tuning "
   ]
  },
  {
   "cell_type": "markdown",
   "id": "9b77fff9",
   "metadata": {},
   "source": [
    "### RandomizedSearchCV for hyperparamter tuning"
   ]
  },
  {
   "cell_type": "code",
   "execution_count": null,
   "id": "c1d6842b",
   "metadata": {},
   "outputs": [],
   "source": [
    "xgb_model = XGBRegressor()\n",
    "\n",
    "# Parameter dictionary for RandomizedSearchCV\n",
    "parameters = {'learning_rate': [.03, 0.05, .07], \n",
    "              'max_depth': [4, 5, 6, 7, 8, 9, 10],\n",
    "              'min_child_weight': [3, 4, 5, 6, 7, 8],\n",
    "              'subsample': [0.6,0.7,0.8],\n",
    "              'colsample_bytree': [0.6,0.7,0.8],\n",
    "              'n_estimators': [100,200,300,400,500]\n",
    "             }\n",
    "# Using RandomizedSearchCV()\n",
    "xgb_random_cv = RandomizedSearchCV(estimator=xgb_model, param_distributions=parameters, n_iter=100, cv=2, verbose=2)\n",
    "xgb_random_cv.fit(x_train, y_train)"
   ]
  },
  {
   "cell_type": "code",
   "execution_count": null,
   "id": "ca2eefd3",
   "metadata": {},
   "outputs": [],
   "source": [
    "# Best Parameters for XGBregressor by RandomizedSearchCV\n",
    "best_param = xgb_random_cv.best_params_\n",
    "best_param"
   ]
  },
  {
   "cell_type": "markdown",
   "id": "71e0ce71",
   "metadata": {},
   "source": [
    "### GridSearchCV for thorough search of best hyperparameters.\n",
    "We will use GridSearchCV for thorough search of best parameters for XGBregressor"
   ]
  },
  {
   "cell_type": "code",
   "execution_count": null,
   "id": "8bfee47f",
   "metadata": {},
   "outputs": [],
   "source": [
    "# Parameter grid for GridSearchCV\n",
    "parameters = {'learning_rate': [best_param[\"learning_rate\"]-0.01, best_param[\"learning_rate\"], best_param[\"learning_rate\"]+0.01], \n",
    "              'max_depth': [best_param[\"max_depth\"]-1, best_param[\"max_depth\"], best_param[\"max_depth\"]+1],\n",
    "              'min_child_weight': [best_param[\"min_child_weight\"]-1, best_param[\"min_child_weight\"], best_param[\"min_child_weight\"]+1],\n",
    "              'subsample': [best_param[\"subsample\"]-0.05, best_param[\"subsample\"], best_param[\"subsample\"]+0.05],\n",
    "              'colsample_bytree': [best_param[\"colsample_bytree\"]-0.1, best_param[\"colsample_bytree\"], best_param[\"colsample_bytree\"]+0.1],\n",
    "              'n_estimators': [best_param[\"n_estimators\"],best_param[\"n_estimators\"]+50,best_param[\"n_estimators\"]+100,best_param[\"n_estimators\"]+150]\n",
    "             }\n",
    "\n",
    "# Using GridSearchCV()\n",
    "xgb_grid = GridSearchCV(xgb_model, parameters, cv= 2, n_jobs=-1, verbose=3)\n",
    "xgb_grid.fit(x_train, y_train)"
   ]
  },
  {
   "cell_type": "code",
   "execution_count": null,
   "id": "d8f81313",
   "metadata": {},
   "outputs": [],
   "source": [
    "# Best Hyperparameters for XGBRegressor by GridSearchCV\n",
    "best_param_gridCV = xgb_grid.best_params_\n",
    "best_param_gridCV"
   ]
  },
  {
   "cell_type": "code",
   "execution_count": null,
   "id": "eb3809c1",
   "metadata": {},
   "outputs": [],
   "source": [
    "xgb_regressor = XGBRegressor(colsample_bytree = best_param_gridCV[\"colsample_bytree\"],\n",
    "                             learning_rate = best_param_gridCV[\"learning_rate\"], \n",
    "                             max_depth = best_param_gridCV[\"max_depth\"], \n",
    "                             min_child_weight = best_param_gridCV[\"min_child_weight\"], \n",
    "                             n_estimators = best_param_gridCV[\"n_estimators\"], \n",
    "                             subsample = best_param_gridCV[\"subsample\"])"
   ]
  },
  {
   "cell_type": "code",
   "execution_count": null,
   "id": "6b7b0bad",
   "metadata": {},
   "outputs": [],
   "source": [
    "xgb_regressor.fit(x_train, y_train)"
   ]
  },
  {
   "cell_type": "code",
   "execution_count": null,
   "id": "5114d13f",
   "metadata": {},
   "outputs": [],
   "source": [
    "y_pred = xgb_regressor.predict(x_test)"
   ]
  },
  {
   "cell_type": "markdown",
   "id": "511fda6a",
   "metadata": {},
   "source": [
    "### Evaluation of Model "
   ]
  },
  {
   "cell_type": "code",
   "execution_count": null,
   "id": "31655b1a",
   "metadata": {},
   "outputs": [],
   "source": [
    "mse = round(mean_squared_error(y_test, y_pred),4)\n",
    "mae = round(mean_absolute_error(y_test, y_pred),4)\n",
    "acc = round((1-mean_absolute_percentage_error(y_test, y_pred))*100,4)"
   ]
  },
  {
   "cell_type": "code",
   "execution_count": null,
   "id": "e965a6cc",
   "metadata": {},
   "outputs": [],
   "source": [
    "print(\" Mean Squared Error = \",mse)\n",
    "print(\"Mean Absolute Error = \",mae)\n",
    "print(\"           Accuracy = \",acc)\n"
   ]
  },
  {
   "cell_type": "code",
   "execution_count": null,
   "id": "edd9351b",
   "metadata": {},
   "outputs": [],
   "source": [
    "print(\"Prediction v/s Actual values\")\n",
    "plt.scatter(y_pred, y_test)\n",
    "plt.title(\"Prediction v/s Actual values\")"
   ]
  },
  {
   "cell_type": "code",
   "execution_count": null,
   "id": "8912aa7d",
   "metadata": {},
   "outputs": [],
   "source": [
    "print(\"Prediction Error Plot\")\n",
    "print(prediction_error(xgb_regressor, x_train, y_train, x_test, y_test))"
   ]
  },
  {
   "cell_type": "code",
   "execution_count": null,
   "id": "631c92f2",
   "metadata": {},
   "outputs": [],
   "source": [
    "plt.figure(figsize=(15,5))\n",
    "\n",
    "plt.subplot(1,2,1)\n",
    "sns.histplot(y_test)\n",
    "\n",
    "plt.subplot(1,2,2)\n",
    "sns.histplot(y_pred, color='r')\n",
    "\n",
    "plt.show()"
   ]
  },
  {
   "cell_type": "markdown",
   "id": "776415f8",
   "metadata": {},
   "source": [
    "### Predictions using XGBoost Regression"
   ]
  },
  {
   "cell_type": "markdown",
   "id": "a9095731",
   "metadata": {},
   "source": [
    "#### - Feature List to give as input"
   ]
  },
  {
   "cell_type": "code",
   "execution_count": null,
   "id": "3545da52",
   "metadata": {},
   "outputs": [],
   "source": [
    "feature_list = list(x.columns)\n",
    "print(\"Number of Features = \", len(feature_list))\n",
    "feature_list"
   ]
  },
  {
   "cell_type": "markdown",
   "id": "de2e8a13",
   "metadata": {},
   "source": [
    "#### - Input to model"
   ]
  },
  {
   "cell_type": "code",
   "execution_count": null,
   "id": "b8741dc1",
   "metadata": {},
   "outputs": [],
   "source": [
    "def input_data():\n",
    "    sc = StandardScaler()\n",
    "    input_distionary = {}\n",
    "    \n",
    "    for i in feature_list:\n",
    "        print(\"Enter \", i)\n",
    "        input_distionary[i] = eval(input())\n",
    "        \n",
    "        data = pd.DataFrame(input_distionary, columns=feature_list, index=[0])\n",
    "        data = sc.fit_transform(data)\n",
    "        \n",
    "        prediction = xgb_regressor.predict(data)\n",
    "        return prediction"
   ]
  },
  {
   "cell_type": "code",
   "execution_count": null,
   "id": "74f7812f",
   "metadata": {},
   "outputs": [],
   "source": []
  }
 ],
 "metadata": {
  "kernelspec": {
   "display_name": "Python 3",
   "language": "python",
   "name": "python3"
  },
  "language_info": {
   "codemirror_mode": {
    "name": "ipython",
    "version": 3
   },
   "file_extension": ".py",
   "mimetype": "text/x-python",
   "name": "python",
   "nbconvert_exporter": "python",
   "pygments_lexer": "ipython3",
   "version": "3.8.8"
  }
 },
 "nbformat": 4,
 "nbformat_minor": 5
}
